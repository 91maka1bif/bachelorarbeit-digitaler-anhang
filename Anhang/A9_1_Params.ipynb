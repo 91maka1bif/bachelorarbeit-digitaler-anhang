{
 "cells": [
  {
   "cell_type": "code",
   "execution_count": 4,
   "id": "81fdb3bb-5999-4ee7-b31b-7039a93c6c05",
   "metadata": {},
   "outputs": [
    {
     "name": "stdout",
     "output_type": "stream",
     "text": [
      "Parameter:\n",
      "Namespace(K=3, attn_drop=0.05, cpu=False, dropout=0.5, edge_drop=0.0, gpu=0, input_drop=0.1, log_every=20, log_path='../logs/gat-ha/', lr=0.002, mask_rate=0.5, n_epochs=2000, n_heads=1, n_hidden=256, n_label_iters=0, n_layers=3, n_runs=1, no_attn_dst=True, norm='gcn', plot_curves=False, printargs=True, seed=0, use_labels=True, wd=0)\n"
     ]
    }
   ],
   "source": [
    "%run gat-ha.py --seed 0 --n-label-iters 0 --lr 0.002 --n-layers 3 --n-hidden 256 --K 3 --n-heads 1 --dropout 0.5 --input_drop 0.1 --edge_drop 0.0 --attn_drop 0.05 --norm gcn --no-attn-dst --n-epochs 2000 --n-runs 1 --use-labels --printargs"
   ]
  }
 ],
 "metadata": {
  "kernelspec": {
   "display_name": "Python 3",
   "language": "python",
   "name": "python3"
  },
  "language_info": {
   "codemirror_mode": {
    "name": "ipython",
    "version": 3
   },
   "file_extension": ".py",
   "mimetype": "text/x-python",
   "name": "python",
   "nbconvert_exporter": "python",
   "pygments_lexer": "ipython3",
   "version": "3.6.13"
  }
 },
 "nbformat": 4,
 "nbformat_minor": 5
}
