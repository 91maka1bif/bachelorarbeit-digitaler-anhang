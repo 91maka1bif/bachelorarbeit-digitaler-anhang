{
 "cells": [
  {
   "cell_type": "code",
   "execution_count": 2,
   "id": "29ef8810-4d5b-4c57-9aa1-8f9460509dd0",
   "metadata": {},
   "outputs": [
    {
     "name": "stdout",
     "output_type": "stream",
     "text": [
      "Parameter:\n",
      "Namespace(attn_drop=0.05, cpu=False, dropout=0.75, gpu=0, log_every=20, lr=0.002, n_epochs=2000, n_heads=3, n_hidden=256, n_layers=3, n_runs=1, plot_curves=False, printargs=True, use_labels=False, use_norm=True, wd=0)\n"
     ]
    }
   ],
   "source": [
    "%run gat/gat.py --use-norm --n-runs 1 --printargs"
   ]
  }
 ],
 "metadata": {
  "kernelspec": {
   "display_name": "Python [conda env:pytorch]",
   "language": "python",
   "name": "conda-env-pytorch-py"
  },
  "language_info": {
   "codemirror_mode": {
    "name": "ipython",
    "version": 3
   },
   "file_extension": ".py",
   "mimetype": "text/x-python",
   "name": "python",
   "nbconvert_exporter": "python",
   "pygments_lexer": "ipython3",
   "version": "3.7.10"
  }
 },
 "nbformat": 4,
 "nbformat_minor": 5
}
